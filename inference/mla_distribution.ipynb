{
 "cells": [
  {
   "cell_type": "markdown",
   "id": "201c24c6-0522-466c-905f-d378a6a1bf8a",
   "metadata": {},
   "source": [
    "# Check MLA outlier distributions"
   ]
  },
  {
   "cell_type": "code",
   "execution_count": 1,
   "id": "a3220cb7-30fc-4e90-a0dc-50b360031438",
   "metadata": {},
   "outputs": [],
   "source": [
    "# !pip install matplotlib scipy"
   ]
  },
  {
   "cell_type": "code",
   "execution_count": 2,
   "id": "29a162c9-522e-4771-a376-698b9210c215",
   "metadata": {},
   "outputs": [],
   "source": [
    "from safetensors import safe_open\n",
    "import torch\n",
    "import numpy as np\n",
    "import matplotlib.pyplot as plt"
   ]
  },
  {
   "cell_type": "code",
   "execution_count": 3,
   "id": "38b0d415-7500-4e24-87cc-32124fcbf4cc",
   "metadata": {},
   "outputs": [
    {
     "name": "stdout",
     "output_type": "stream",
     "text": [
      "\u001b[0m\u001b[01;34mlayer00\u001b[0m/  \u001b[01;34mlayer04\u001b[0m/  \u001b[01;34mlayer08\u001b[0m/  \u001b[01;34mlayer12\u001b[0m/  \u001b[01;34mlayer16\u001b[0m/  \u001b[01;34mlayer20\u001b[0m/  \u001b[01;34mlayer24\u001b[0m/\n",
      "\u001b[01;34mlayer01\u001b[0m/  \u001b[01;34mlayer05\u001b[0m/  \u001b[01;34mlayer09\u001b[0m/  \u001b[01;34mlayer13\u001b[0m/  \u001b[01;34mlayer17\u001b[0m/  \u001b[01;34mlayer21\u001b[0m/  \u001b[01;34mlayer25\u001b[0m/\n",
      "\u001b[01;34mlayer02\u001b[0m/  \u001b[01;34mlayer06\u001b[0m/  \u001b[01;34mlayer10\u001b[0m/  \u001b[01;34mlayer14\u001b[0m/  \u001b[01;34mlayer18\u001b[0m/  \u001b[01;34mlayer22\u001b[0m/  \u001b[01;34mlayer26\u001b[0m/\n",
      "\u001b[01;34mlayer03\u001b[0m/  \u001b[01;34mlayer07\u001b[0m/  \u001b[01;34mlayer11\u001b[0m/  \u001b[01;34mlayer15\u001b[0m/  \u001b[01;34mlayer19\u001b[0m/  \u001b[01;34mlayer23\u001b[0m/\n"
     ]
    }
   ],
   "source": [
    "ls mla_ckpts/"
   ]
  },
  {
   "cell_type": "code",
   "execution_count": 4,
   "id": "306d592d-4588-4d0f-bb57-e803a49da581",
   "metadata": {},
   "outputs": [],
   "source": [
    "# ls mla_ckpts/layer00"
   ]
  },
  {
   "cell_type": "code",
   "execution_count": 5,
   "id": "727ab4ee-be32-442a-8fce-b8e3de900338",
   "metadata": {},
   "outputs": [],
   "source": [
    "use_gpu = False  # run locally\n",
    "device = 0 if use_gpu else None\n",
    "\n",
    "records_all_layer = []\n",
    "for layer_id in range(27):\n",
    "    records_all_iter = []\n",
    "    for iter_id in range(100, 200):\n",
    "        file_name = f\"mla_ckpts/layer{layer_id:02}/mla_ckpt_{iter_id:03}.safetensors\"\n",
    "        tensors = {}\n",
    "        with safe_open(file_name, framework=\"pt\", device=device) as f:\n",
    "            for k in f.keys():\n",
    "                tensors[k] = f.get_tensor(k)\n",
    "        records_all_iter.append(tensors)\n",
    "    records_all_layer.append(records_all_iter)\n",
    "\n",
    "## records_all_layer  # too long, do not pring"
   ]
  },
  {
   "cell_type": "code",
   "execution_count": 6,
   "id": "1c889090-d230-4192-a90e-86ca1cddcd04",
   "metadata": {},
   "outputs": [
    {
     "name": "stdout",
     "output_type": "stream",
     "text": [
      "kv_cache_used | torch.Size([8, 123, 512]) | torch.bfloat16 | cpu\n",
      "output_x | torch.Size([8, 1, 16, 512]) | torch.bfloat16 | cpu\n",
      "pe_cache_used | torch.Size([8, 123, 64]) | torch.bfloat16 | cpu\n",
      "q_nope | torch.Size([8, 1, 16, 512]) | torch.bfloat16 | cpu\n",
      "q_pe | torch.Size([8, 1, 16, 64]) | torch.bfloat16 | cpu\n",
      "scores | torch.Size([8, 1, 16, 123]) | torch.bfloat16 | cpu\n",
      "softmax_scale | torch.Size([]) | torch.bfloat16 | cpu\n"
     ]
    }
   ],
   "source": [
    "tensors = records_all_layer[0][2]\n",
    "for name, tensor in tensors.items():\n",
    "    print(name, tensor.shape, tensor.dtype, tensor.device, sep=\" | \")"
   ]
  },
  {
   "cell_type": "code",
   "execution_count": 7,
   "id": "11c7606a-19f3-4a04-aaf4-05b30f9399ac",
   "metadata": {},
   "outputs": [],
   "source": [
    "def to_numpy(x):\n",
    "    # numpy has no BFloat16 dtype\n",
    "    return x.cpu().to(torch.float32).numpy()\n",
    "\n",
    "def extract_q(all_records, key=\"q_nope\"):\n",
    "    all_output = []\n",
    "    for records in all_records:\n",
    "        temp_output = []\n",
    "        for record in records:\n",
    "            data = to_numpy(record[key])\n",
    "            temp_output.append(data)\n",
    "            # print(data.shape)\n",
    "            \n",
    "        temp_output = np.concatenate(temp_output, axis=1)\n",
    "        all_output.append(temp_output)\n",
    "    return np.stack(all_output)\n",
    "\n",
    "def extract_kv(all_records, key=\"kv_cache_used\"):\n",
    "    all_output = []\n",
    "    for records in all_records:\n",
    "        record = records[-1]  # last iter contains full cache\n",
    "        data = to_numpy(record[key])\n",
    "        all_output.append(data)\n",
    "    return np.stack(all_output)"
   ]
  },
  {
   "cell_type": "code",
   "execution_count": 8,
   "id": "f83d99bb-569f-4b86-a936-3b45ee34da60",
   "metadata": {},
   "outputs": [
    {
     "name": "stdout",
     "output_type": "stream",
     "text": [
      "CPU times: user 31.3 s, sys: 470 ms, total: 31.8 s\n",
      "Wall time: 1.09 s\n"
     ]
    },
    {
     "data": {
      "text/plain": [
       "(27, 8, 100, 16, 512)"
      ]
     },
     "execution_count": 8,
     "metadata": {},
     "output_type": "execute_result"
    }
   ],
   "source": [
    "%%time\n",
    "q_nope_all = extract_q(records_all_layer)\n",
    "q_nope_all.shape  # [layer, batch, iter(seq), head, hidden]"
   ]
  },
  {
   "cell_type": "code",
   "execution_count": 9,
   "id": "685751fd-5694-44c8-8ed6-bfef5a095923",
   "metadata": {},
   "outputs": [
    {
     "data": {
      "text/plain": [
       "(27, 8, 220, 512)"
      ]
     },
     "execution_count": 9,
     "metadata": {},
     "output_type": "execute_result"
    }
   ],
   "source": [
    "kv_cache_all = extract_kv(records_all_layer)\n",
    "kv_cache_all.shape # [layer, batch, seq(last_iter), head, hidden]"
   ]
  },
  {
   "cell_type": "code",
   "execution_count": 10,
   "id": "b6a45f19-d9fd-41fe-a778-0ba7524d3766",
   "metadata": {},
   "outputs": [
    {
     "data": {
      "image/png": "[encoded data removed]",
      "text/plain": [
       "<Figure size 640x480 with 1 Axes>"
      ]
     },
     "metadata": {},
     "output_type": "display_data"
    }
   ],
   "source": [
    "plt.hist(q_nope_all.flatten(), log=True, bins=20, alpha=0.5);\n",
    "plt.hist(kv_cache_all.flatten(), log=True, bins=20, alpha=0.5);"
   ]
  },
  {
   "cell_type": "markdown",
   "id": "c5b6ca36-ae84-4e0a-b543-6926a493f34e",
   "metadata": {},
   "source": [
    "## Hadamard"
   ]
  },
  {
   "cell_type": "code",
   "execution_count": 11,
   "id": "a164a536-20e0-4705-a2cf-4100dccc8e87",
   "metadata": {},
   "outputs": [
    {
     "data": {
      "text/plain": [
       "(512, 512)"
      ]
     },
     "execution_count": 11,
     "metadata": {},
     "output_type": "execute_result"
    }
   ],
   "source": [
    "from scipy.linalg import hadamard\n",
    "\n",
    "K = q_nope_all.shape[-1]\n",
    "H = hadamard(K, dtype=np.float32) / np.sqrt(K)\n",
    "H.shape"
   ]
  },
  {
   "cell_type": "code",
   "execution_count": 12,
   "id": "0a535148-51a5-4d15-a5d8-06430e9acd0c",
   "metadata": {},
   "outputs": [
    {
     "name": "stdout",
     "output_type": "stream",
     "text": [
      "CPU times: user 2min 14s, sys: 1.74 s, total: 2min 15s\n",
      "Wall time: 4.45 s\n"
     ]
    }
   ],
   "source": [
    "%%time\n",
    "q_nope_all_rotate = q_nope_all @ H\n",
    "kv_cache_all_rotate = kv_cache_all @ H"
   ]
  },
  {
   "cell_type": "code",
   "execution_count": 13,
   "id": "3183a64f-10f7-4b56-839c-b430c3e86bff",
   "metadata": {},
   "outputs": [
    {
     "data": {
      "image/png": "[encoded data removed]",
      "text/plain": [
       "<Figure size 640x480 with 1 Axes>"
      ]
     },
     "metadata": {},
     "output_type": "display_data"
    }
   ],
   "source": [
    "plt.hist(q_nope_all_rotate.flatten(), log=True, bins=20, alpha=0.5);\n",
    "plt.hist(kv_cache_all_rotate.flatten(), log=True, bins=20, alpha=0.5);"
   ]
  },
  {
   "cell_type": "markdown",
   "id": "8ad0e08d-43f0-4875-b66d-19b38dcc4b54",
   "metadata": {},
   "source": [
    "## FP16 vs INT8 GEMM"
   ]
  },
  {
   "cell_type": "code",
   "execution_count": 14,
   "id": "97160bce-620f-426b-80f1-dec6c1a9634e",
   "metadata": {},
   "outputs": [],
   "source": [
    "# TBD"
   ]
  }
 ],
 "metadata": {
  "kernelspec": {
   "display_name": "Python 3 (ipykernel)",
   "language": "python",
   "name": "python3"
  },
  "language_info": {
   "codemirror_mode": {
    "name": "ipython",
    "version": 3
   },
   "file_extension": ".py",
   "mimetype": "text/x-python",
   "name": "python",
   "nbconvert_exporter": "python",
   "pygments_lexer": "ipython3",
   "version": "3.11.9"
  }
 },
 "nbformat": 4,
 "nbformat_minor": 5
}
